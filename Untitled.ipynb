{
 "cells": [
  {
   "cell_type": "code",
   "execution_count": 1,
   "id": "3d06b07b",
   "metadata": {},
   "outputs": [
    {
     "name": "stdout",
     "output_type": "stream",
     "text": [
      "WARNING:tensorflow:From C:\\Users\\salma\\anaconda3\\Lib\\site-packages\\keras\\src\\losses.py:2976: The name tf.losses.sparse_softmax_cross_entropy is deprecated. Please use tf.compat.v1.losses.sparse_softmax_cross_entropy instead.\n",
      "\n"
     ]
    }
   ],
   "source": [
    "import tensorflow as tf\n"
   ]
  },
  {
   "cell_type": "code",
   "execution_count": 2,
   "id": "ae3c740b",
   "metadata": {},
   "outputs": [
    {
     "data": {
      "text/plain": [
       "'jumpa\\t\\ndoctor fate\\t\\nstarlight\\t\\nisildur\\t\\nlasher\\t\\nvarvara\\t\\nthe target\\t\\naxel\\t\\nbattra\\t\\nchangeling\\t\\npyrrh'"
      ]
     },
     "execution_count": 2,
     "metadata": {},
     "output_type": "execute_result"
    }
   ],
   "source": [
    "with open('superheroes.txt','r') as f:\n",
    "  data = f.read()\n",
    "data[:100]\n"
   ]
  },
  {
   "cell_type": "code",
   "execution_count": 3,
   "id": "abb5eb98",
   "metadata": {},
   "outputs": [],
   "source": [
    "# 3. Création du tokenizer\n",
    "tokenizer = tf.keras.preprocessing.text.Tokenizer(\n",
    "    filters='!\"#$%&()*+,-./:;<=>?@[\\\\]^_`{|}~',  # Caractères à ignorer\n",
    "    split='\\n'  # Découpage sur les sauts de ligne\n",
    ")"
   ]
  },
  {
   "cell_type": "code",
   "execution_count": 4,
   "id": "c0d1b984",
   "metadata": {},
   "outputs": [],
   "source": [
    "# 4. Entraînement du tokenizer sur les données lues\n",
    "tokenizer.fit_on_texts(data)"
   ]
  },
  {
   "cell_type": "code",
   "execution_count": 5,
   "id": "42f87002",
   "metadata": {},
   "outputs": [],
   "source": [
    "# 5. Création des dictionnaires d'encodage et de décodage\n",
    "char_to_index = tokenizer.word_index  # Dictionnaire token → index\n",
    "index_to_char = {v: k for k, v in char_to_index.items()}  # Dictionnaire inverse index → token"
   ]
  },
  {
   "cell_type": "code",
   "execution_count": 6,
   "id": "b26678d5",
   "metadata": {},
   "outputs": [
    {
     "name": "stdout",
     "output_type": "stream",
     "text": [
      "{1: '\\t', 2: 'a', 3: 'e', 4: 'r', 5: 'o', 6: 'n', 7: 'i', 8: ' ', 9: 't', 10: 's', 11: 'l', 12: 'm', 13: 'h', 14: 'd', 15: 'c', 16: 'u', 17: 'g', 18: 'k', 19: 'b', 20: 'p', 21: 'y', 22: 'w', 23: 'f', 24: 'v', 25: 'j', 26: 'z', 27: 'x', 28: 'q'}\n"
     ]
    }
   ],
   "source": [
    "print (index_to_char)"
   ]
  },
  {
   "cell_type": "code",
   "execution_count": 7,
   "id": "29c57408",
   "metadata": {},
   "outputs": [
    {
     "data": {
      "text/plain": [
       "['jumpa\\t',\n",
       " 'doctor fate\\t',\n",
       " 'starlight\\t',\n",
       " 'isildur\\t',\n",
       " 'lasher\\t',\n",
       " 'varvara\\t',\n",
       " 'the target\\t',\n",
       " 'axel\\t',\n",
       " 'battra\\t',\n",
       " 'changeling\\t']"
      ]
     },
     "execution_count": 7,
     "metadata": {},
     "output_type": "execute_result"
    }
   ],
   "source": [
    "names= data.splitlines()\n",
    "names [:10]"
   ]
  },
  {
   "cell_type": "code",
   "execution_count": 8,
   "id": "82841dd9",
   "metadata": {},
   "outputs": [
    {
     "data": {
      "text/plain": [
       "[[25], [16], [12], [20], [2], [1]]"
      ]
     },
     "execution_count": 8,
     "metadata": {},
     "output_type": "execute_result"
    }
   ],
   "source": [
    "tokenizer.texts_to_sequences (names[0]) #le mot jumpa est traduite par des sequence d'index"
   ]
  },
  {
   "cell_type": "code",
   "execution_count": 9,
   "id": "787d05be",
   "metadata": {},
   "outputs": [],
   "source": [
    "def name_to_seq(name):\n",
    "    return [tokenizer.texts_to_sequences(c)[0][0]for c in name] # fonction pour transformer la chaine 'nom du siperhero ' a une sequence des indices selon les tokenizers"
   ]
  },
  {
   "cell_type": "code",
   "execution_count": 10,
   "id": "dce5020c",
   "metadata": {},
   "outputs": [
    {
     "data": {
      "text/plain": [
       "[14, 5, 15, 9, 5, 4, 8, 23, 2, 9, 3, 1]"
      ]
     },
     "execution_count": 10,
     "metadata": {},
     "output_type": "execute_result"
    }
   ],
   "source": [
    "name_to_seq (names[1])"
   ]
  },
  {
   "cell_type": "code",
   "execution_count": 11,
   "id": "ad94388f",
   "metadata": {},
   "outputs": [],
   "source": [
    "def seq_to_name(seq):\n",
    "    return ''.join([index_to_char[i] for i in seq if i!= 0])"
   ]
  },
  {
   "cell_type": "code",
   "execution_count": 12,
   "id": "21b0361f",
   "metadata": {},
   "outputs": [
    {
     "data": {
      "text/plain": [
       "'jumpa\\t'"
      ]
     },
     "execution_count": 12,
     "metadata": {},
     "output_type": "execute_result"
    }
   ],
   "source": [
    "seq_to_name(name_to_seq(names[0]))"
   ]
  },
  {
   "cell_type": "code",
   "execution_count": 13,
   "id": "93d84eec",
   "metadata": {},
   "outputs": [],
   "source": [
    "sequences =[] # initialisation une liste vide qui contiendra toutes les séquences générées.\n",
    "\n",
    "for name in names : # parcours tous les noms de la liste names.\n",
    "    seq= name_to_seq(name)#convertis chaque nom (ex. \"Hulk\") en séquence d’indices (ex. [8, 21, 12, 11]) grâce à ta fonction name_to_seq.\n",
    "    if len(seq)>=2: #Tu ignores les noms trop courts (moins de 2 lettres), car tu veux au minimum une entrée et une cible.\n",
    "        sequences +=[seq[:i]for i in range(2,len(seq)+1)]"
   ]
  },
  {
   "cell_type": "code",
   "execution_count": 14,
   "id": "cd4a8885",
   "metadata": {},
   "outputs": [
    {
     "data": {
      "text/plain": [
       "[[25, 16],\n",
       " [25, 16, 12],\n",
       " [25, 16, 12, 20],\n",
       " [25, 16, 12, 20, 2],\n",
       " [25, 16, 12, 20, 2, 1],\n",
       " [14, 5],\n",
       " [14, 5, 15],\n",
       " [14, 5, 15, 9],\n",
       " [14, 5, 15, 9, 5],\n",
       " [14, 5, 15, 9, 5, 4]]"
      ]
     },
     "execution_count": 14,
     "metadata": {},
     "output_type": "execute_result"
    }
   ],
   "source": [
    "sequences[:10]"
   ]
  },
  {
   "cell_type": "code",
   "execution_count": 15,
   "id": "e4c88750",
   "metadata": {},
   "outputs": [
    {
     "name": "stdout",
     "output_type": "stream",
     "text": [
      "33\n"
     ]
    }
   ],
   "source": [
    "max_len=max([len(x)for x in sequences ])\n",
    "print(max_len)"
   ]
  },
  {
   "cell_type": "code",
   "execution_count": 16,
   "id": "a0f33057",
   "metadata": {},
   "outputs": [
    {
     "name": "stdout",
     "output_type": "stream",
     "text": [
      "[ 0  0  0  0  0  0  0  0  0  0  0  0  0  0  0  0  0  0  0  0  0  0  0  0\n",
      "  0  0  0  0  0  0  0 25 16]\n"
     ]
    },
    {
     "data": {
      "text/plain": [
       "(88279, 33)"
      ]
     },
     "execution_count": 16,
     "metadata": {},
     "output_type": "execute_result"
    }
   ],
   "source": [
    "#tilises pad_sequences pour rendre toutes les séquences de même longueur en ajoutant des 0 au début (padding='pre').\n",
    "padded_sequences=tf.keras.preprocessing.sequence.pad_sequences(\n",
    "    sequences,padding= 'pre',\n",
    "    maxlen=max_len)\n",
    "print(padded_sequences[0])\n",
    "padded_sequences.shape"
   ]
  },
  {
   "cell_type": "markdown",
   "id": "9dd69cc9",
   "metadata": {},
   "source": [
    "# Creating validation and training sets"
   ]
  },
  {
   "cell_type": "code",
   "execution_count": 17,
   "id": "cc78e724",
   "metadata": {},
   "outputs": [
    {
     "name": "stdout",
     "output_type": "stream",
     "text": [
      "(88279, 32) (88279,)\n"
     ]
    }
   ],
   "source": [
    "x,y = padded_sequences[:, :-1], padded_sequences[:, -1]\n",
    "print(x.shape, y.shape)"
   ]
  },
  {
   "cell_type": "code",
   "execution_count": 18,
   "id": "0599bf63",
   "metadata": {},
   "outputs": [
    {
     "name": "stdout",
     "output_type": "stream",
     "text": [
      "(66209, 32) (66209,)\n",
      "(22070, 32) (22070,)\n"
     ]
    }
   ],
   "source": [
    "from sklearn.model_selection import train_test_split\n",
    "x_train,x_test,y_train,y_test= train_test_split(x,y)\n",
    "print(x_train.shape, y_train.shape)\n",
    "print(x_test.shape, y_test.shape)"
   ]
  },
  {
   "cell_type": "code",
   "execution_count": 19,
   "id": "5727add6",
   "metadata": {},
   "outputs": [
    {
     "name": "stdout",
     "output_type": "stream",
     "text": [
      "29\n"
     ]
    }
   ],
   "source": [
    "num_chars =len(char_to_index.keys())+1\n",
    "print(num_chars)\n"
   ]
  },
  {
   "cell_type": "code",
   "execution_count": 25,
   "id": "aa82a0e4",
   "metadata": {},
   "outputs": [
    {
     "name": "stdout",
     "output_type": "stream",
     "text": [
      "Model: \"sequential_1\"\n",
      "_________________________________________________________________\n",
      " Layer (type)                Output Shape              Param #   \n",
      "=================================================================\n",
      " embedding_2 (Embedding)     (None, 32, 8)             232       \n",
      "                                                                 \n",
      " conv1d_2 (Conv1D)           (None, 32, 64)            2624      \n",
      "                                                                 \n",
      " max_pooling1d_1 (MaxPoolin  (None, 16, 64)            0         \n",
      " g1D)                                                            \n",
      "                                                                 \n",
      " lstm_1 (LSTM)               (None, 32)                12416     \n",
      "                                                                 \n",
      " dense_1 (Dense)             (None, 29)                957       \n",
      "                                                                 \n",
      "=================================================================\n",
      "Total params: 16229 (63.39 KB)\n",
      "Trainable params: 16229 (63.39 KB)\n",
      "Non-trainable params: 0 (0.00 Byte)\n",
      "_________________________________________________________________\n"
     ]
    }
   ],
   "source": [
    " #onstruction d un modèle capable de prédire la prochaine lettre dans un nom de superhéros, \n",
    "#en apprenant depuis une séquence de lettres précédentes. Il convertit les lettres en vecteurs,\n",
    "#capte des motifs avec Conv1D, comprend la séquence avec LSTM, et prédit le caractère suivant avec une couche Dense.\n",
    "\n",
    "from tensorflow.keras.models import Sequential\n",
    "from tensorflow.keras.layers import Embedding, Conv1D, MaxPool1D, LSTM\n",
    "from tensorflow.keras.layers import Bidirectional, Dense\n",
    "\n",
    "model = Sequential([\n",
    "    Embedding(input_dim=num_chars, output_dim=8, input_length=max_len - 1),\n",
    "    Conv1D(filters=64, kernel_size=5, strides=1, activation='tanh', padding='causal'),\n",
    "    MaxPool1D(pool_size=2),\n",
    "    LSTM(32),\n",
    "    Dense(num_chars, activation='softmax')\n",
    "])\n",
    "\n",
    "model.compile(\n",
    "    loss='sparse_categorical_crossentropy',\n",
    "    optimizer='adam',\n",
    "    metrics=['accuracy']\n",
    ")\n",
    "\n",
    "model.summary()\n"
   ]
  },
  {
   "cell_type": "markdown",
   "id": "35f589ff",
   "metadata": {},
   "source": [
    "# training the model"
   ]
  },
  {
   "cell_type": "code",
   "execution_count": 26,
   "id": "75baba52",
   "metadata": {},
   "outputs": [
    {
     "name": "stdout",
     "output_type": "stream",
     "text": [
      "Epoch 1/50\n",
      "WARNING:tensorflow:From C:\\Users\\salma\\anaconda3\\Lib\\site-packages\\keras\\src\\utils\\tf_utils.py:492: The name tf.ragged.RaggedTensorValue is deprecated. Please use tf.compat.v1.ragged.RaggedTensorValue instead.\n",
      "\n",
      "WARNING:tensorflow:From C:\\Users\\salma\\anaconda3\\Lib\\site-packages\\keras\\src\\engine\\base_layer_utils.py:384: The name tf.executing_eagerly_outside_functions is deprecated. Please use tf.compat.v1.executing_eagerly_outside_functions instead.\n",
      "\n",
      "2070/2070 - 21s - loss: 2.7385 - accuracy: 0.1914 - val_loss: 2.5939 - val_accuracy: 0.2236 - 21s/epoch - 10ms/step\n",
      "Epoch 2/50\n",
      "2070/2070 - 19s - loss: 2.5350 - accuracy: 0.2356 - val_loss: 2.5120 - val_accuracy: 0.2391 - 19s/epoch - 9ms/step\n",
      "Epoch 3/50\n",
      "2070/2070 - 20s - loss: 2.4680 - accuracy: 0.2500 - val_loss: 2.4597 - val_accuracy: 0.2600 - 20s/epoch - 9ms/step\n",
      "Epoch 4/50\n",
      "2070/2070 - 19s - loss: 2.4195 - accuracy: 0.2685 - val_loss: 2.4195 - val_accuracy: 0.2700 - 19s/epoch - 9ms/step\n",
      "Epoch 5/50\n",
      "2070/2070 - 19s - loss: 2.3797 - accuracy: 0.2781 - val_loss: 2.3949 - val_accuracy: 0.2790 - 19s/epoch - 9ms/step\n",
      "Epoch 6/50\n",
      "2070/2070 - 19s - loss: 2.3461 - accuracy: 0.2867 - val_loss: 2.3664 - val_accuracy: 0.2834 - 19s/epoch - 9ms/step\n",
      "Epoch 7/50\n",
      "2070/2070 - 19s - loss: 2.3164 - accuracy: 0.2959 - val_loss: 2.3437 - val_accuracy: 0.2895 - 19s/epoch - 9ms/step\n",
      "Epoch 8/50\n",
      "2070/2070 - 19s - loss: 2.2915 - accuracy: 0.3041 - val_loss: 2.3249 - val_accuracy: 0.2963 - 19s/epoch - 9ms/step\n",
      "Epoch 9/50\n",
      "2070/2070 - 19s - loss: 2.2684 - accuracy: 0.3121 - val_loss: 2.3085 - val_accuracy: 0.3010 - 19s/epoch - 9ms/step\n",
      "Epoch 10/50\n",
      "2070/2070 - 19s - loss: 2.2473 - accuracy: 0.3188 - val_loss: 2.2918 - val_accuracy: 0.3091 - 19s/epoch - 9ms/step\n",
      "Epoch 11/50\n",
      "2070/2070 - 19s - loss: 2.2277 - accuracy: 0.3256 - val_loss: 2.2831 - val_accuracy: 0.3136 - 19s/epoch - 9ms/step\n",
      "Epoch 12/50\n",
      "2070/2070 - 19s - loss: 2.2107 - accuracy: 0.3319 - val_loss: 2.2780 - val_accuracy: 0.3171 - 19s/epoch - 9ms/step\n",
      "Epoch 13/50\n",
      "2070/2070 - 17s - loss: 2.1949 - accuracy: 0.3372 - val_loss: 2.2606 - val_accuracy: 0.3207 - 17s/epoch - 8ms/step\n",
      "Epoch 14/50\n",
      "2070/2070 - 16s - loss: 2.1796 - accuracy: 0.3415 - val_loss: 2.2591 - val_accuracy: 0.3232 - 16s/epoch - 8ms/step\n",
      "Epoch 15/50\n",
      "2070/2070 - 16s - loss: 2.1655 - accuracy: 0.3467 - val_loss: 2.2506 - val_accuracy: 0.3240 - 16s/epoch - 8ms/step\n",
      "Epoch 16/50\n",
      "2070/2070 - 16s - loss: 2.1528 - accuracy: 0.3499 - val_loss: 2.2429 - val_accuracy: 0.3274 - 16s/epoch - 8ms/step\n",
      "Epoch 17/50\n",
      "2070/2070 - 16s - loss: 2.1399 - accuracy: 0.3549 - val_loss: 2.2381 - val_accuracy: 0.3276 - 16s/epoch - 8ms/step\n",
      "Epoch 18/50\n",
      "2070/2070 - 16s - loss: 2.1287 - accuracy: 0.3580 - val_loss: 2.2293 - val_accuracy: 0.3327 - 16s/epoch - 8ms/step\n",
      "Epoch 19/50\n",
      "2070/2070 - 16s - loss: 2.1170 - accuracy: 0.3609 - val_loss: 2.2280 - val_accuracy: 0.3330 - 16s/epoch - 8ms/step\n",
      "Epoch 20/50\n",
      "2070/2070 - 16s - loss: 2.1064 - accuracy: 0.3641 - val_loss: 2.2246 - val_accuracy: 0.3365 - 16s/epoch - 8ms/step\n",
      "Epoch 21/50\n",
      "2070/2070 - 16s - loss: 2.0973 - accuracy: 0.3674 - val_loss: 2.2201 - val_accuracy: 0.3343 - 16s/epoch - 8ms/step\n",
      "Epoch 22/50\n",
      "2070/2070 - 16s - loss: 2.0887 - accuracy: 0.3714 - val_loss: 2.2170 - val_accuracy: 0.3390 - 16s/epoch - 8ms/step\n",
      "Epoch 23/50\n",
      "2070/2070 - 16s - loss: 2.0791 - accuracy: 0.3731 - val_loss: 2.2184 - val_accuracy: 0.3388 - 16s/epoch - 8ms/step\n",
      "Epoch 24/50\n",
      "2070/2070 - 16s - loss: 2.0708 - accuracy: 0.3768 - val_loss: 2.2125 - val_accuracy: 0.3431 - 16s/epoch - 8ms/step\n",
      "Epoch 25/50\n",
      "2070/2070 - 16s - loss: 2.0629 - accuracy: 0.3794 - val_loss: 2.2088 - val_accuracy: 0.3411 - 16s/epoch - 8ms/step\n",
      "Epoch 26/50\n",
      "2070/2070 - 16s - loss: 2.0547 - accuracy: 0.3829 - val_loss: 2.2106 - val_accuracy: 0.3396 - 16s/epoch - 8ms/step\n",
      "Epoch 27/50\n",
      "2070/2070 - 16s - loss: 2.0485 - accuracy: 0.3838 - val_loss: 2.2112 - val_accuracy: 0.3386 - 16s/epoch - 8ms/step\n"
     ]
    }
   ],
   "source": [
    "h= model.fit(\n",
    "x_train, y_train,\n",
    "validation_data= (x_test,y_test),\n",
    "epochs=50, verbose=2,\n",
    "    callbacks=[\n",
    "        tf.keras.callbacks.EarlyStopping(monitor='val_accuracy',patience=3)\n",
    "    ]\n",
    ")"
   ]
  },
  {
   "cell_type": "code",
   "execution_count": 30,
   "id": "229dd596",
   "metadata": {},
   "outputs": [
    {
     "data": {
      "image/png": "[encoded data removed]",
      "text/plain": [
       "<Figure size 640x480 with 1 Axes>"
      ]
     },
     "metadata": {},
     "output_type": "display_data"
    }
   ],
   "source": [
    "from matplotlib import pyplot as plt\n",
    "epochs_ran= len(h.history['loss'])\n",
    "plt.plot(range(0,epochs_ran),h.history['val_accuracy'],label='Validation')\n",
    "plt.plot(range(0,epochs_ran),h.history['accuracy'],label='training')\n",
    "plt.legend()\n",
    "plt.show()"
   ]
  },
  {
   "cell_type": "code",
   "execution_count": 31,
   "id": "72a7a233",
   "metadata": {},
   "outputs": [],
   "source": [
    "def generate_name(seed):\n",
    "    for i in range(0,40):\n",
    "        seq= name_to_seq(seed)\n",
    "        padded=tk.keras.preprocessing.sequence.pad_sequences([seq], padding='pre',\n",
    "                                                            maxlen=max_len-1,\n",
    "                                                            truncating='pre')\n",
    "        pred=model.predict(padded)[0]\n",
    "        pred_char=index_to_char[tf.argmax(pred).numpy()]\n",
    "        seed +=pred_char\n",
    "        if pred_char == '\\t':\n",
    "            break\n",
    "            print(seed)"
   ]
  },
  {
   "cell_type": "code",
   "execution_count": 33,
   "id": "7ff18cf2",
   "metadata": {},
   "outputs": [
    {
     "ename": "NameError",
     "evalue": "name 'tk' is not defined",
     "output_type": "error",
     "traceback": [
      "\u001b[1;31m---------------------------------------------------------------------------\u001b[0m",
      "\u001b[1;31mNameError\u001b[0m                                 Traceback (most recent call last)",
      "Cell \u001b[1;32mIn[33], line 1\u001b[0m\n\u001b[1;32m----> 1\u001b[0m generate_name(\u001b[38;5;124m'\u001b[39m\u001b[38;5;124mx\u001b[39m\u001b[38;5;124m'\u001b[39m)\n",
      "Cell \u001b[1;32mIn[31], line 4\u001b[0m, in \u001b[0;36mgenerate_name\u001b[1;34m(seed)\u001b[0m\n\u001b[0;32m      2\u001b[0m \u001b[38;5;28;01mfor\u001b[39;00m i \u001b[38;5;129;01min\u001b[39;00m \u001b[38;5;28mrange\u001b[39m(\u001b[38;5;241m0\u001b[39m,\u001b[38;5;241m40\u001b[39m):\n\u001b[0;32m      3\u001b[0m     seq\u001b[38;5;241m=\u001b[39m name_to_seq(seed)\n\u001b[1;32m----> 4\u001b[0m     padded\u001b[38;5;241m=\u001b[39mtk\u001b[38;5;241m.\u001b[39mkeras\u001b[38;5;241m.\u001b[39mpreprocessing\u001b[38;5;241m.\u001b[39msequence\u001b[38;5;241m.\u001b[39mpad_sequences([seq], padding\u001b[38;5;241m=\u001b[39m\u001b[38;5;124m'\u001b[39m\u001b[38;5;124mpre\u001b[39m\u001b[38;5;124m'\u001b[39m,\n\u001b[0;32m      5\u001b[0m                                                         maxlen\u001b[38;5;241m=\u001b[39mmax_len\u001b[38;5;241m-\u001b[39m\u001b[38;5;241m1\u001b[39m,\n\u001b[0;32m      6\u001b[0m                                                         truncating\u001b[38;5;241m=\u001b[39m\u001b[38;5;124m'\u001b[39m\u001b[38;5;124mpre\u001b[39m\u001b[38;5;124m'\u001b[39m)\n\u001b[0;32m      7\u001b[0m     pred\u001b[38;5;241m=\u001b[39mmodel\u001b[38;5;241m.\u001b[39mpredict(padded)[\u001b[38;5;241m0\u001b[39m]\n\u001b[0;32m      8\u001b[0m     pred_char\u001b[38;5;241m=\u001b[39mindex_to_char[tf\u001b[38;5;241m.\u001b[39margmax(pred)\u001b[38;5;241m.\u001b[39mnumpy()]\n",
      "\u001b[1;31mNameError\u001b[0m: name 'tk' is not defined"
     ]
    }
   ],
   "source": [
    "generate_name('x')"
   ]
  },
  {
   "cell_type": "code",
   "execution_count": null,
   "id": "85cb4acb",
   "metadata": {},
   "outputs": [],
   "source": []
  }
 ],
 "metadata": {
  "kernelspec": {
   "display_name": "Python 3 (ipykernel)",
   "language": "python",
   "name": "python3"
  },
  "language_info": {
   "codemirror_mode": {
    "name": "ipython",
    "version": 3
   },
   "file_extension": ".py",
   "mimetype": "text/x-python",
   "name": "python",
   "nbconvert_exporter": "python",
   "pygments_lexer": "ipython3",
   "version": "3.11.5"
  }
 },
 "nbformat": 4,
 "nbformat_minor": 5
}
